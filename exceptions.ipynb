{
 "cells": [
  {
   "cell_type": "markdown",
   "metadata": {},
   "source": [
    "# all about exceptions\n",
    "\n",
    "following mainly this: https://realpython.com/python-exceptions/"
   ]
  },
  {
   "cell_type": "code",
   "execution_count": 1,
   "metadata": {},
   "outputs": [
    {
     "ename": "ZeroDivisionError",
     "evalue": "division by zero",
     "output_type": "error",
     "traceback": [
      "\u001b[0;31m---------------------------------------------------------------------------\u001b[0m",
      "\u001b[0;31mZeroDivisionError\u001b[0m                         Traceback (most recent call last)",
      "Cell \u001b[0;32mIn[1], line 2\u001b[0m\n\u001b[1;32m      1\u001b[0m \u001b[38;5;66;03m# there are a lot of build in exceptions https://docs.python.org/3/library/exceptions.html\u001b[39;00m\n\u001b[0;32m----> 2\u001b[0m \u001b[38;5;28mprint\u001b[39m(\u001b[38;5;241;43m1\u001b[39;49m\u001b[38;5;241;43m/\u001b[39;49m\u001b[38;5;241;43m0\u001b[39;49m)\n",
      "\u001b[0;31mZeroDivisionError\u001b[0m: division by zero"
     ]
    }
   ],
   "source": [
    "# there are a lot of build in exceptions https://docs.python.org/3/library/exceptions.html\n",
    "print(1/0)"
   ]
  },
  {
   "cell_type": "code",
   "execution_count": 2,
   "metadata": {},
   "outputs": [
    {
     "ename": "Exception",
     "evalue": "The number should not exceed 5. (number=10)",
     "output_type": "error",
     "traceback": [
      "\u001b[0;31m---------------------------------------------------------------------------\u001b[0m",
      "\u001b[0;31mException\u001b[0m                                 Traceback (most recent call last)",
      "Cell \u001b[0;32mIn[2], line 6\u001b[0m\n\u001b[1;32m      4\u001b[0m number \u001b[38;5;241m=\u001b[39m \u001b[38;5;241m10\u001b[39m\n\u001b[1;32m      5\u001b[0m \u001b[38;5;28;01mif\u001b[39;00m number \u001b[38;5;241m>\u001b[39m \u001b[38;5;241m5\u001b[39m:\n\u001b[0;32m----> 6\u001b[0m     \u001b[38;5;28;01mraise\u001b[39;00m \u001b[38;5;167;01mException\u001b[39;00m(\u001b[38;5;124mf\u001b[39m\u001b[38;5;124m\"\u001b[39m\u001b[38;5;124mThe number should not exceed 5. (\u001b[39m\u001b[38;5;132;01m{\u001b[39;00mnumber\u001b[38;5;132;01m=}\u001b[39;00m\u001b[38;5;124m)\u001b[39m\u001b[38;5;124m\"\u001b[39m)\n\u001b[1;32m      7\u001b[0m \u001b[38;5;28mprint\u001b[39m(number)\n",
      "\u001b[0;31mException\u001b[0m: The number should not exceed 5. (number=10)"
     ]
    }
   ],
   "source": [
    "# raising excpetions\n",
    "# final call to print never executed - with raise you stop the program\n",
    "\n",
    "number = 10\n",
    "if number > 5:\n",
    "    raise Exception(f\"The number should not exceed 5. ({number=})\")\n",
    "print(number)"
   ]
  },
  {
   "cell_type": "markdown",
   "metadata": {},
   "source": [
    "**assert**"
   ]
  },
  {
   "cell_type": "code",
   "execution_count": 3,
   "metadata": {},
   "outputs": [
    {
     "ename": "AssertionError",
     "evalue": "The number should not exceed 5. (number=10)",
     "output_type": "error",
     "traceback": [
      "\u001b[0;31m---------------------------------------------------------------------------\u001b[0m",
      "\u001b[0;31mAssertionError\u001b[0m                            Traceback (most recent call last)",
      "Cell \u001b[0;32mIn[3], line 10\u001b[0m\n\u001b[1;32m      1\u001b[0m \u001b[38;5;66;03m# assert statement - only for debugging: \u001b[39;00m\n\u001b[1;32m      2\u001b[0m \u001b[38;5;66;03m# when you run python with -O flag (optimized mode: https://docs.python.org/3/using/cmdline.html#cmdoption-O), all assert statements are ignored\u001b[39;00m\n\u001b[1;32m      3\u001b[0m \u001b[38;5;66;03m# Note: Alternatively, you can also disable assertions through the PYTHONOPTIMIZE environment variable.\u001b[39;00m\n\u001b[0;32m   (...)\u001b[0m\n\u001b[1;32m      6\u001b[0m \u001b[38;5;66;03m# check for a condition, and if the condition IS NOT met, python will raise an AssertionError\u001b[39;00m\n\u001b[1;32m      7\u001b[0m \u001b[38;5;66;03m# The idea is that your program should only attempt to run if certain conditions are in place\u001b[39;00m\n\u001b[1;32m      9\u001b[0m number \u001b[38;5;241m=\u001b[39m \u001b[38;5;241m10\u001b[39m\n\u001b[0;32m---> 10\u001b[0m \u001b[38;5;28;01massert\u001b[39;00m (number \u001b[38;5;241m<\u001b[39m \u001b[38;5;241m5\u001b[39m), \u001b[38;5;124mf\u001b[39m\u001b[38;5;124m\"\u001b[39m\u001b[38;5;124mThe number should not exceed 5. (\u001b[39m\u001b[38;5;132;01m{\u001b[39;00mnumber\u001b[38;5;132;01m=}\u001b[39;00m\u001b[38;5;124m)\u001b[39m\u001b[38;5;124m\"\u001b[39m\n\u001b[1;32m     11\u001b[0m \u001b[38;5;28mprint\u001b[39m(number)\n",
      "\u001b[0;31mAssertionError\u001b[0m: The number should not exceed 5. (number=10)"
     ]
    }
   ],
   "source": [
    "# assert statement - only for debugging: \n",
    "# when you run python with -O flag (optimized mode: https://docs.python.org/3/using/cmdline.html#cmdoption-O), all assert statements are ignored\n",
    "# Note: Alternatively, you can also disable assertions through the PYTHONOPTIMIZE environment variable.\n",
    "\n",
    "# you should not create asserion errors with raise - let python do it for you\n",
    "# check for a condition, and if the condition IS NOT met, python will raise an AssertionError\n",
    "# The idea is that your program should only attempt to run if certain conditions are in place\n",
    "\n",
    "number = 10\n",
    "assert (number < 5), f\"The number should not exceed 5. ({number=})\"\n",
    "print(number)"
   ]
  },
  {
   "cell_type": "markdown",
   "metadata": {},
   "source": [
    "**simple try catch**"
   ]
  },
  {
   "cell_type": "code",
   "execution_count": 4,
   "metadata": {},
   "outputs": [
    {
     "name": "stdout",
     "output_type": "stream",
     "text": [
      "Function can only run on windows systems.\n",
      "Linux windows_interaction() function wasn't executed.\n"
     ]
    }
   ],
   "source": [
    "# finding the right exception is important... check out https://docs.python.org/3/library/exceptions.html#concrete-exceptions\n",
    "# the order of the except blocks doesn't matter... it will catch the one that is first raised...\n",
    "\n",
    "def windows_interaction():\n",
    "    import sys\n",
    "    if \"winodws\" not in sys.platform:\n",
    "        raise RuntimeError(\"Function can only run on windows systems.\")\n",
    "    print(\"Doing windows things.\")\n",
    "\n",
    "try:\n",
    "    windows_interaction()\n",
    "    with open(\"file.log\") as file:\n",
    "        read_data = file.read()\n",
    "except FileNotFoundError as fnf_error:\n",
    "    print(fnf_error)\n",
    "except RuntimeError as error:\n",
    "    print(error)\n",
    "    print(\"Linux windows_interaction() function wasn't executed.\")"
   ]
  },
  {
   "cell_type": "markdown",
   "metadata": {},
   "source": [
    "**try catch else**"
   ]
  },
  {
   "cell_type": "code",
   "execution_count": 5,
   "metadata": {},
   "outputs": [
    {
     "name": "stdout",
     "output_type": "stream",
     "text": [
      "Doing linux things.\n",
      "Doing even more linux things.\n",
      "-------------------\n",
      "Function can only run on windows systems.\n"
     ]
    }
   ],
   "source": [
    "# else runs only, when there is no exception\n",
    "\n",
    "def linux_interaction():\n",
    "    import sys\n",
    "    if \"linux\" not in sys.platform:\n",
    "        raise RuntimeError(\"Function can only run on linux systems.\")\n",
    "    print(\"Doing linux things.\")\n",
    "\n",
    "try:\n",
    "    linux_interaction()\n",
    "except RuntimeError as error:\n",
    "    print(error)\n",
    "else:\n",
    "    print(\"Doing even more linux things.\")\n",
    "\n",
    "print(\"-------------------\")\n",
    "\n",
    "try:\n",
    "    windows_interaction()\n",
    "except RuntimeError as error:\n",
    "    print(error)\n",
    "else:\n",
    "    print(\"Doing even more linux things.\")"
   ]
  },
  {
   "cell_type": "markdown",
   "metadata": {},
   "source": [
    "**finally**"
   ]
  },
  {
   "cell_type": "code",
   "execution_count": 6,
   "metadata": {},
   "outputs": [
    {
     "name": "stdout",
     "output_type": "stream",
     "text": [
      "Function can only run on windows systems.\n",
      "Cleaning up, irrespective of any exceptions.\n"
     ]
    }
   ],
   "source": [
    "# finally always runs... if there is or is not an exception\n",
    "try:\n",
    "    windows_interaction()\n",
    "except RuntimeError as error:\n",
    "    print(error)\n",
    "else:\n",
    "    try:\n",
    "        with open(\"file.log\") as file:\n",
    "            read_data = file.read()\n",
    "    except FileNotFoundError as fnf_error:\n",
    "        print(fnf_error)\n",
    "finally:\n",
    "    print(\"Cleaning up, irrespective of any exceptions.\")"
   ]
  },
  {
   "cell_type": "code",
   "execution_count": 7,
   "metadata": {},
   "outputs": [
    {
     "name": "stdout",
     "output_type": "stream",
     "text": [
      "Doing linux things.\n",
      "Cleaning up, irrespective of any exceptions.\n"
     ]
    }
   ],
   "source": [
    "# it runs also when you don't catch the exception\n",
    "\n",
    "try:\n",
    "    linux_interaction()\n",
    "finally:\n",
    "    print(\"Cleaning up, irrespective of any exceptions.\")"
   ]
  },
  {
   "cell_type": "markdown",
   "metadata": {},
   "source": [
    "**custom exceptions**"
   ]
  },
  {
   "cell_type": "code",
   "execution_count": 8,
   "metadata": {},
   "outputs": [
    {
     "ename": "PlatformException",
     "evalue": "Function can only run on Windows systems.",
     "output_type": "error",
     "traceback": [
      "\u001b[0;31m---------------------------------------------------------------------------\u001b[0m",
      "\u001b[0;31mPlatformException\u001b[0m                         Traceback (most recent call last)",
      "Cell \u001b[0;32mIn[8], line 17\u001b[0m\n\u001b[1;32m     14\u001b[0m         \u001b[38;5;28;01mraise\u001b[39;00m PlatformException(\u001b[38;5;124m\"\u001b[39m\u001b[38;5;124mFunction can only run on Windows systems.\u001b[39m\u001b[38;5;124m\"\u001b[39m)\n\u001b[1;32m     15\u001b[0m     \u001b[38;5;28mprint\u001b[39m(\u001b[38;5;124m\"\u001b[39m\u001b[38;5;124mDoing windows things.\u001b[39m\u001b[38;5;124m\"\u001b[39m)\n\u001b[0;32m---> 17\u001b[0m \u001b[43mwindows_interaction\u001b[49m\u001b[43m(\u001b[49m\u001b[43m)\u001b[49m\n",
      "Cell \u001b[0;32mIn[8], line 14\u001b[0m, in \u001b[0;36mwindows_interaction\u001b[0;34m()\u001b[0m\n\u001b[1;32m     12\u001b[0m \u001b[38;5;28;01mimport\u001b[39;00m\u001b[38;5;250m \u001b[39m\u001b[38;5;21;01msys\u001b[39;00m\n\u001b[1;32m     13\u001b[0m \u001b[38;5;28;01mif\u001b[39;00m \u001b[38;5;124m\"\u001b[39m\u001b[38;5;124mwindows\u001b[39m\u001b[38;5;124m\"\u001b[39m \u001b[38;5;129;01mnot\u001b[39;00m \u001b[38;5;129;01min\u001b[39;00m sys\u001b[38;5;241m.\u001b[39mplatform:\n\u001b[0;32m---> 14\u001b[0m     \u001b[38;5;28;01mraise\u001b[39;00m PlatformException(\u001b[38;5;124m\"\u001b[39m\u001b[38;5;124mFunction can only run on Windows systems.\u001b[39m\u001b[38;5;124m\"\u001b[39m)\n\u001b[1;32m     15\u001b[0m \u001b[38;5;28mprint\u001b[39m(\u001b[38;5;124m\"\u001b[39m\u001b[38;5;124mDoing windows things.\u001b[39m\u001b[38;5;124m\"\u001b[39m)\n",
      "\u001b[0;31mPlatformException\u001b[0m: Function can only run on Windows systems."
     ]
    }
   ],
   "source": [
    "# inheriting from the base Exception class is usually the best choice\n",
    "# this is all i need to do... just inherit from the Exception class and add a doc string\n",
    "\n",
    "# the docstring doesn't really show up... but:\n",
    "# Note: Python requires some indented code in the body of your class. Alternatively to using the docstring, \n",
    "# you could’ve also used pass or the ellipsis (...). However, adding a descriptive docstring adds the most value to your custom exception.\n",
    "\n",
    "class PlatformException(Exception):\n",
    "    \"\"\"Incompatible platform.\"\"\"\n",
    "\n",
    "def windows_interaction():\n",
    "    import sys\n",
    "    if \"windows\" not in sys.platform:\n",
    "        raise PlatformException(\"Function can only run on Windows systems.\")\n",
    "    print(\"Doing windows things.\")\n",
    "\n",
    "windows_interaction()"
   ]
  },
  {
   "cell_type": "code",
   "execution_count": 9,
   "metadata": {},
   "outputs": [
    {
     "name": "stdout",
     "output_type": "stream",
     "text": [
      "handled platform exception\n"
     ]
    }
   ],
   "source": [
    "try:\n",
    "    windows_interaction()\n",
    "except PlatformException as error:\n",
    "    print(\"handled platform exception\")\n",
    "except Exception as error:\n",
    "    print(\"some generic exception happened\")"
   ]
  },
  {
   "cell_type": "code",
   "execution_count": null,
   "metadata": {},
   "outputs": [],
   "source": []
  }
 ],
 "metadata": {
  "kernelspec": {
   "display_name": ".venv",
   "language": "python",
   "name": "python3"
  },
  "language_info": {
   "codemirror_mode": {
    "name": "ipython",
    "version": 3
   },
   "file_extension": ".py",
   "mimetype": "text/x-python",
   "name": "python",
   "nbconvert_exporter": "python",
   "pygments_lexer": "ipython3",
   "version": "3.12.8"
  }
 },
 "nbformat": 4,
 "nbformat_minor": 2
}
