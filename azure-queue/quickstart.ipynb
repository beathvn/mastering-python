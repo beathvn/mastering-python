{
 "cells": [
  {
   "cell_type": "markdown",
   "id": "18a815d7",
   "metadata": {},
   "source": [
    "# Azure queue"
   ]
  },
  {
   "cell_type": "code",
   "execution_count": 37,
   "id": "34868b94",
   "metadata": {},
   "outputs": [
    {
     "name": "stdout",
     "output_type": "stream",
     "text": [
      "/workspaces/mastering-python\n"
     ]
    }
   ],
   "source": [
    "import os\n",
    "\n",
    "os.chdir(\"..\")\n",
    "print(os.getcwd())"
   ]
  },
  {
   "cell_type": "code",
   "execution_count": 39,
   "id": "6cca7b78",
   "metadata": {},
   "outputs": [
    {
     "data": {
      "text/plain": [
       "True"
      ]
     },
     "execution_count": 39,
     "metadata": {},
     "output_type": "execute_result"
    }
   ],
   "source": [
    "from dotenv import load_dotenv\n",
    "\n",
    "load_dotenv(f\".env\", override=True)"
   ]
  },
  {
   "cell_type": "code",
   "execution_count": 40,
   "id": "40c40db4",
   "metadata": {},
   "outputs": [],
   "source": [
    "from azure.storage.queue import QueueClient, QueueServiceClient"
   ]
  },
  {
   "cell_type": "code",
   "execution_count": 41,
   "id": "111e15ec",
   "metadata": {},
   "outputs": [
    {
     "name": "stdout",
     "output_type": "stream",
     "text": [
      "Azure Queue storage - Python quickstart sample\n",
      "Exception:\n",
      "Queue already exists\n",
      "RequestId:fed69251-d003-0075-72af-1cf61a000000\n",
      "Time:2025-09-03 08:47:32+00:00\n",
      "ErrorCode:StorageErrorCode.QUEUE_ALREADY_EXISTS\n"
     ]
    }
   ],
   "source": [
    "try:\n",
    "    print(\"Azure Queue storage - Python quickstart sample\")\n",
    "\n",
    "    # Create a unique name for the queue\n",
    "    queue_name = \"quickstartqueues\"\n",
    "\n",
    "    account_url = \"https://sthtiaididevwe01.queue.core.windows.net\"\n",
    "\n",
    "    # Create the QueueClient object\n",
    "    # We'll use this object to create and interact with the queue\n",
    "    queue_service_client = QueueServiceClient.from_connection_string(\n",
    "        conn_str=os.environ[\"AZURE_STORAGE_ACCOUNT_CONN_STR\"]\n",
    "    )\n",
    "\n",
    "    # creating the queue\n",
    "    queue_service_client.create_queue(queue_name)\n",
    "    queue_client: QueueClient = queue_service_client.get_queue_client(queue_name)\n",
    "except Exception as ex:\n",
    "    print(\"Exception:\")\n",
    "    print(ex)"
   ]
  },
  {
   "cell_type": "code",
   "execution_count": 26,
   "id": "7a0c6d5f",
   "metadata": {},
   "outputs": [
    {
     "name": "stdout",
     "output_type": "stream",
     "text": [
      "\n",
      "Adding messages to the queue...\n"
     ]
    }
   ],
   "source": [
    "print(\"\\nAdding messages to the queue...\")\n",
    "\n",
    "# Send several messages to the queue\n",
    "queue_client.send_message(\"First message\")\n",
    "queue_client.send_message(\"Second message\")\n",
    "saved_message = queue_client.send_message(\"Third message\")"
   ]
  },
  {
   "cell_type": "code",
   "execution_count": null,
   "id": "cd86a581",
   "metadata": {},
   "outputs": [
    {
     "name": "stdout",
     "output_type": "stream",
     "text": [
      "\n",
      "Peek at the messages in the queue...\n",
      "Message: First message\n",
      "Message: Second message\n",
      "Message: Third message\n"
     ]
    }
   ],
   "source": [
    "print(\"\\nPeek at the messages in the queue...\")\n",
    "\n",
    "# Peek at messages in the queue - this doesn't change the message at all\n",
    "peeked_messages = queue_client.peek_messages(max_messages=5)\n",
    "\n",
    "for peeked_message in peeked_messages:\n",
    "    # Display the message\n",
    "    print(\"Message: \" + peeked_message.content)"
   ]
  },
  {
   "cell_type": "code",
   "execution_count": 8,
   "id": "4c57bc3e",
   "metadata": {},
   "outputs": [
    {
     "name": "stdout",
     "output_type": "stream",
     "text": [
      "\n",
      "Updating the third message in the queue...\n"
     ]
    },
    {
     "data": {
      "text/plain": [
       "{'id': 'f7abce36-942b-4d2d-9d94-1331d249baf3', 'inserted_on': datetime.datetime(2025, 9, 3, 8, 23, 53, tzinfo=datetime.timezone.utc), 'expires_on': datetime.datetime(2025, 9, 10, 8, 23, 53, tzinfo=datetime.timezone.utc), 'dequeue_count': None, 'content': 'Third message has been updated', 'pop_receipt': 'AwAAAAMAAAAAAAAA0yLfQKwc3AEAAAAA', 'next_visible_on': datetime.datetime(2025, 9, 3, 8, 25, 6, tzinfo=datetime.timezone.utc)}"
      ]
     },
     "execution_count": 8,
     "metadata": {},
     "output_type": "execute_result"
    }
   ],
   "source": [
    "print(\"\\nUpdating the third message in the queue...\")\n",
    "\n",
    "# Update a message using the message saved when calling send_message earlier\n",
    "queue_client.update_message(\n",
    "    saved_message,\n",
    "    pop_receipt=saved_message.pop_receipt,\n",
    "    content=\"Third message has been updated\",\n",
    ")"
   ]
  },
  {
   "cell_type": "code",
   "execution_count": 28,
   "id": "2a8cea10",
   "metadata": {},
   "outputs": [
    {
     "name": "stdout",
     "output_type": "stream",
     "text": [
      "Message count: 3\n"
     ]
    }
   ],
   "source": [
    "# getting queue length\n",
    "properties = queue_client.get_queue_properties()\n",
    "count = properties.approximate_message_count\n",
    "print(\"Message count: \" + str(count))"
   ]
  },
  {
   "cell_type": "code",
   "execution_count": null,
   "id": "2a8cea10",
   "metadata": {},
   "outputs": [
    {
     "name": "stdout",
     "output_type": "stream",
     "text": [
      "\n",
      "Receiving messages from the queue...\n"
     ]
    }
   ],
   "source": [
    "print(\"\\nReceiving messages from the queue...\")\n",
    "\n",
    "# Get messages from the queue, once received,\n",
    "# they are not visible for 5 seconds - but only after you go through them with .by_page()\n",
    "# default is 30 seconds\n",
    "messages = queue_client.receive_messages(max_messages=5, visibility_timeout=5)"
   ]
  },
  {
   "cell_type": "code",
   "execution_count": 29,
   "id": "1f28e200",
   "metadata": {},
   "outputs": [],
   "source": [
    "for msg_batch in messages.by_page():\n",
    "    for msg in msg_batch:\n",
    "        pass"
   ]
  },
  {
   "cell_type": "code",
   "execution_count": 30,
   "id": "651cd42d",
   "metadata": {},
   "outputs": [
    {
     "name": "stdout",
     "output_type": "stream",
     "text": [
      "\n",
      "Press Enter key to 'process' messages and delete them from the queue...\n",
      "First message\n",
      "Second message\n",
      "Third message\n"
     ]
    }
   ],
   "source": [
    "print(\"\\nPress Enter key to 'process' messages and delete them from the queue...\")\n",
    "input()\n",
    "\n",
    "for msg_batch in messages.by_page():  # messages is a lazy iterator, which could not be materialized - since queue uses pagination internally we need to iterate through it this way\n",
    "    for msg in msg_batch:\n",
    "        # \"Process\" the message\n",
    "        print(msg.content)\n",
    "        # Let the service know we're finished with\n",
    "        # the message and it can be safely deleted.\n",
    "        queue_client.delete_message(msg)"
   ]
  },
  {
   "cell_type": "markdown",
   "id": "4af74593",
   "metadata": {},
   "source": [
    "## Structured queue messages"
   ]
  },
  {
   "cell_type": "code",
   "execution_count": null,
   "id": "072f06a4",
   "metadata": {},
   "outputs": [
    {
     "name": "stdout",
     "output_type": "stream",
     "text": [
      "✅ Structured messages sent!\n"
     ]
    }
   ],
   "source": [
    "import json\n",
    "from dataclasses import asdict, dataclass\n",
    "from datetime import datetime\n",
    "\n",
    "\n",
    "@dataclass\n",
    "class TaskMessage:\n",
    "    task_id: str\n",
    "    task_type: str\n",
    "    priority: int\n",
    "    payload: dict\n",
    "\n",
    "    def to_json(self) -> str:\n",
    "        return json.dumps(asdict(self))\n",
    "\n",
    "    @classmethod\n",
    "    def from_json(cls, json_str: str):\n",
    "        return cls(**json.loads(json_str))\n",
    "\n",
    "\n",
    "# Send structured messages\n",
    "tasks = [\n",
    "    TaskMessage(\"task-001\", \"email_notification\", 1, {\"recipient\": \"user@example.com\"}),\n",
    "    TaskMessage(\"task-002\", \"data_processing\", 3, {\"file_path\": \"/data/batch.csv\"}),\n",
    "    TaskMessage(\"task-003\", \"report_generation\", 2, {\"report_type\": \"monthly\"}),\n",
    "]\n",
    "\n",
    "for task in tasks:\n",
    "    queue_client.send_message(task.to_json())\n",
    "\n",
    "print(\"✅ Structured messages sent!\")"
   ]
  },
  {
   "cell_type": "code",
   "execution_count": 36,
   "id": "5bac94c6",
   "metadata": {},
   "outputs": [
    {
     "name": "stdout",
     "output_type": "stream",
     "text": [
      "📋 task-001: email_notification (priority 1)\n",
      "📋 task-002: data_processing (priority 3)\n",
      "📋 task-003: report_generation (priority 2)\n"
     ]
    }
   ],
   "source": [
    "# Process structured messages\n",
    "messages = queue_client.receive_messages(max_messages=10)\n",
    "\n",
    "for msg_batch in messages.by_page():\n",
    "    for msg in msg_batch:\n",
    "        try:\n",
    "            task = TaskMessage.from_json(msg.content)\n",
    "            print(f\"📋 {task.task_id}: {task.task_type} (priority {task.priority})\")\n",
    "            queue_client.delete_message(msg)\n",
    "        except Exception as e:\n",
    "            print(f\"❌ Error: {e}\")"
   ]
  },
  {
   "cell_type": "code",
   "execution_count": null,
   "id": "2532fd9b",
   "metadata": {},
   "outputs": [],
   "source": []
  }
 ],
 "metadata": {
  "kernelspec": {
   "display_name": "mastering-python",
   "language": "python",
   "name": "python3"
  },
  "language_info": {
   "codemirror_mode": {
    "name": "ipython",
    "version": 3
   },
   "file_extension": ".py",
   "mimetype": "text/x-python",
   "name": "python",
   "nbconvert_exporter": "python",
   "pygments_lexer": "ipython3",
   "version": "3.11.13"
  }
 },
 "nbformat": 4,
 "nbformat_minor": 5
}
