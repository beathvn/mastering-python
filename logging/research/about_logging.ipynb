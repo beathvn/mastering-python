{
 "cells": [
  {
   "cell_type": "markdown",
   "metadata": {},
   "source": [
    "# all about logging\n",
    "\n",
    "related: https://realpython.com/python-logging/"
   ]
  },
  {
   "cell_type": "markdown",
   "metadata": {},
   "source": [
    "**BEST PRACTICES:**\n",
    "* Log at the closest point to where you can handle the error meaningfully\n",
    "* Don't log the same error multiple times"
   ]
  },
  {
   "cell_type": "markdown",
   "metadata": {},
   "source": [
    "## getting familiar with the logging module"
   ]
  },
  {
   "cell_type": "markdown",
   "metadata": {},
   "source": [
    "**logging levels**\n",
    "\n",
    "| Constant | Numeric Value| String Value\n",
    "|---|---|---|\n",
    "| logging.DEBUG\t|10|\tDEBUG\n",
    "| logging.INFO\t|20|\tINFO\n",
    "| logging.WARNING\t|30|\tWARNING\n",
    "| logging.ERROR\t|40|\tERROR\n",
    "| logging.CRITICAL|\t50|\tCRITICAL"
   ]
  },
  {
   "cell_type": "markdown",
   "metadata": {},
   "source": [
    "Calling **basicConfig()** to configure the root logger only works if the root logger hasn’t been configured before. All logging functions automatically call basicConfig() without arguments if basicConfig() has never been called. So, for example, once you call logging.debug(), you’ll no longer be able to configure the root logger with basicConfig().\n",
    "\n",
    "This is why i need to restart the kernel when i want to try differnt things\n",
    "\n",
    "**basicConfig()** contains a lot of [predefined attributes](https://docs.python.org/3/library/logging.html#logrecord-attributes)"
   ]
  },
  {
   "cell_type": "markdown",
   "metadata": {},
   "source": [
    "i can use **printf** style string formatting. but i can also use dollar sign and **curly braces** (but then i need to configure the style argument)"
   ]
  },
  {
   "cell_type": "code",
   "execution_count": 1,
   "metadata": {},
   "outputs": [
    {
     "name": "stderr",
     "output_type": "stream",
     "text": [
      "WARNING:root:Hello, Warning!\n"
     ]
    }
   ],
   "source": [
    "import logging\n",
    "\n",
    "logging.basicConfig(format=\"{levelname}:{name}:{message}\", style=\"{\")\n",
    "logging.warning(\"Hello, Warning!\")"
   ]
  },
  {
   "cell_type": "code",
   "execution_count": 2,
   "metadata": {},
   "outputs": [
    {
     "name": "stderr",
     "output_type": "stream",
     "text": [
      "WARNING:root:Hello, Warning!\n"
     ]
    }
   ],
   "source": [
    "import logging\n",
    "\n",
    "logging.basicConfig(\n",
    "    format=\"{asctime} - {levelname} - {message}\",\n",
    "    style=\"{\",\n",
    "    datefmt=\"%Y-%m-%d %H:%M:%S\",  # i can also not show the ms see more here: https://docs.python.org/3/library/time.html#time.strftime\n",
    ")\n",
    "logging.warning(\"Hello, Warning!\")"
   ]
  },
  {
   "cell_type": "markdown",
   "metadata": {},
   "source": [
    "### logging to a file"
   ]
  },
  {
   "cell_type": "code",
   "execution_count": 3,
   "metadata": {},
   "outputs": [
    {
     "name": "stderr",
     "output_type": "stream",
     "text": [
      "WARNING:root:Hello, Warning!\n"
     ]
    }
   ],
   "source": [
    "import logging\n",
    "\n",
    "logging.basicConfig(\n",
    "    filename=\"app.log\",\n",
    "    encoding=\"utf-8\",\n",
    "    filemode=\"a\",  # a is for append, w is for write\n",
    "    format=\"{asctime} - {levelname} - {message}\",\n",
    "    style=\"{\",\n",
    "    datefmt=\"%Y-%m-%d %H:%M:%S\",\n",
    ")\n",
    "logging.warning(\"Hello, Warning!\")"
   ]
  },
  {
   "cell_type": "markdown",
   "metadata": {},
   "source": [
    "### logging errors"
   ]
  },
  {
   "cell_type": "code",
   "execution_count": 4,
   "metadata": {},
   "outputs": [
    {
     "name": "stderr",
     "output_type": "stream",
     "text": [
      "ERROR:root:DonutCalculationError\n",
      "Traceback (most recent call last):\n",
      "  File \"/tmp/ipykernel_2207/134976379.py\", line 12, in <module>\n",
      "    donuts_per_guest = donuts / guests\n",
      "                       ~~~~~~~^~~~~~~~\n",
      "ZeroDivisionError: division by zero\n",
      "ERROR:root:DonutCalculationError: division by zero\n",
      "ERROR:root:DonutCalculationError\n",
      "Traceback (most recent call last):\n",
      "  File \"/tmp/ipykernel_2207/134976379.py\", line 12, in <module>\n",
      "    donuts_per_guest = donuts / guests\n",
      "                       ~~~~~~~^~~~~~~~\n",
      "ZeroDivisionError: division by zero\n"
     ]
    }
   ],
   "source": [
    "import logging\n",
    "\n",
    "logging.basicConfig(\n",
    "    format=\"{asctime} - {levelname} - {message}\",\n",
    "    style=\"{\",\n",
    "    datefmt=\"%Y-%m-%d %H:%M:%S\",\n",
    ")\n",
    "\n",
    "donuts = 5\n",
    "guests = 0\n",
    "\n",
    "try:\n",
    "    donuts_per_guest = donuts / guests\n",
    "except ZeroDivisionError as e:\n",
    "    # setting this to False, doesn't include the actual error\n",
    "    # exc_info=True can be used in any log level\n",
    "    logging.error(\"DonutCalculationError\", exc_info=True)\n",
    "\n",
    "    # that gives you much more info than something like this:\n",
    "    logging.error(f\"DonutCalculationError: {e}\", exc_info=False)\n",
    "\n",
    "    # This is basically the same as the first... but shorter\n",
    "    logging.exception(\"DonutCalculationError\")"
   ]
  },
  {
   "cell_type": "markdown",
   "metadata": {},
   "source": [
    "## Creating custom logger"
   ]
  },
  {
   "cell_type": "markdown",
   "metadata": {},
   "source": [
    "**this is the way to go**, because if you configure logging on with basicConfig, external libraries will also start outputting logs..."
   ]
  },
  {
   "cell_type": "code",
   "execution_count": 5,
   "metadata": {},
   "outputs": [
    {
     "name": "stderr",
     "output_type": "stream",
     "text": [
      "WARNING:__main__:Look at my logger!\n"
     ]
    }
   ],
   "source": [
    "# best practice, so that the name is the moduls name in the python package namespace\n",
    "import logging\n",
    "\n",
    "logger = logging.getLogger(__name__)\n",
    "logger.warning(\"Look at my logger!\")\n",
    "\n",
    "# we cannot use the basicConfig for a custom logger... this only the root logger gets\n",
    "# for custom loggers we need to work with handlers and formatters"
   ]
  },
  {
   "cell_type": "markdown",
   "metadata": {},
   "source": [
    "### Handlers"
   ]
  },
  {
   "cell_type": "code",
   "execution_count": 6,
   "metadata": {},
   "outputs": [
    {
     "name": "stderr",
     "output_type": "stream",
     "text": [
      "Look at my logger!\n",
      "WARNING:__main__:Look at my logger!\n"
     ]
    }
   ],
   "source": [
    "# Note: A logger that you create can have one or more handlers.\n",
    "# That means you can send your logs to multiple places when they’re generated.\n",
    "\n",
    "import logging\n",
    "\n",
    "logger = logging.getLogger(__name__)\n",
    "console_handler = (\n",
    "    logging.StreamHandler()\n",
    ")  # the logs are written to the standard error stream (stderr)\n",
    "file_handler = logging.FileHandler(\n",
    "    \"app.log\", mode=\"a\", encoding=\"utf-8\"\n",
    ")  # sends to file\n",
    "\n",
    "logger.addHandler(console_handler)\n",
    "logger.addHandler(file_handler)\n",
    "logger.handlers  # in the parentheis you can see the handlers log level\n",
    "\n",
    "logger.warning(\"Look at my logger!\")"
   ]
  },
  {
   "cell_type": "markdown",
   "metadata": {},
   "source": [
    "The logging module comes with many handy handlers for specific purposes. For example, `RotatingFileHandler`, which creates a new log file once a file size limit is reached, or `TimedRotatingFileHandler`, with which you can create a new log file for defined intervals."
   ]
  },
  {
   "cell_type": "markdown",
   "metadata": {},
   "source": [
    "### Formatters"
   ]
  },
  {
   "cell_type": "code",
   "execution_count": null,
   "metadata": {},
   "outputs": [
    {
     "name": "stderr",
     "output_type": "stream",
     "text": [
      "Testing formatters\n",
      "2025-01-10 15:46:12 - WARNING - Testing formatters\n",
      "WARNING:__main__:Testing formatters\n"
     ]
    }
   ],
   "source": [
    "# with the handlers you define where you send the log messages\n",
    "# with the formatters you define how the log messages look like\n",
    "\n",
    "import logging\n",
    "\n",
    "logger = logging.getLogger(__name__)\n",
    "console_handler = (\n",
    "    logging.StreamHandler()\n",
    ")  # the logs are written to the standard error stream (stderr)\n",
    "file_handler = logging.FileHandler(\"app.log\", mode=\"a\", encoding=\"utf-8\")\n",
    "logger.addHandler(console_handler)\n",
    "logger.addHandler(file_handler)\n",
    "\n",
    "formatter = logging.Formatter(\n",
    "    \"{asctime} - {levelname} - {message}\",\n",
    "    style=\"{\",\n",
    "    datefmt=\"%Y-%m-%d %H:%M:%S\",\n",
    ")\n",
    "console_handler.setFormatter(formatter)  # we add this to the handler, not the logger\n",
    "\n",
    "logger.warning(\"Testing formatters\")"
   ]
  },
  {
   "cell_type": "markdown",
   "metadata": {},
   "source": [
    "### setting log levels"
   ]
  },
  {
   "cell_type": "code",
   "execution_count": 8,
   "metadata": {},
   "outputs": [
    {
     "name": "stdout",
     "output_type": "stream",
     "text": [
      "0\n",
      "<Logger __main__ (WARNING)>\n",
      "<RootLogger root (WARNING)>\n",
      "30\n"
     ]
    }
   ],
   "source": [
    "import logging\n",
    "\n",
    "logger = logging.getLogger(__name__)\n",
    "print(logger.level)  # 0 stands for not set\n",
    "print(logger)  # we see warning here... that is inherited from the root logger\n",
    "print(logger.parent)\n",
    "print(logger.getEffectiveLevel())  # 30 stands for warning (see table of log levels)"
   ]
  },
  {
   "cell_type": "code",
   "execution_count": 9,
   "metadata": {},
   "outputs": [
    {
     "data": {
      "text/plain": [
       "<Logger __main__ (INFO)>"
      ]
     },
     "execution_count": 9,
     "metadata": {},
     "output_type": "execute_result"
    }
   ],
   "source": [
    "# any handler added to the logger will recognize this log level\n",
    "\n",
    "logger.setLevel(\"INFO\")  # equal to logger.setLevel(20)\n",
    "logger"
   ]
  },
  {
   "cell_type": "markdown",
   "metadata": {},
   "source": [
    "Note: You define the **lowest allowed log level** on the **logger itself**. Handlers can’t show logs lower than the defined log level of the logger they’re connected to.\n",
    "\n",
    "this is why the file shows only warning and error, while the console shows also the debug"
   ]
  },
  {
   "cell_type": "code",
   "execution_count": 10,
   "metadata": {},
   "outputs": [
    {
     "name": "stderr",
     "output_type": "stream",
     "text": [
      "This is a debug message\n",
      "2025-01-10 15:46:12 - DEBUG - This is a debug message\n",
      "DEBUG - This is a debug message\n",
      "DEBUG:__main__:This is a debug message\n",
      "This is a warning message\n",
      "2025-01-10 15:46:12 - WARNING - This is a warning message\n",
      "WARNING - This is a warning message\n",
      "WARNING:__main__:This is a warning message\n",
      "This is an error message\n",
      "2025-01-10 15:46:12 - ERROR - This is an error message\n",
      "ERROR - This is an error message\n",
      "ERROR:__main__:This is an error message\n"
     ]
    }
   ],
   "source": [
    "import logging\n",
    "\n",
    "logger = logging.getLogger(__name__)\n",
    "logger.setLevel(\"DEBUG\")\n",
    "formatter = logging.Formatter(\"{levelname} - {message}\", style=\"{\")\n",
    "\n",
    "console_handler = logging.StreamHandler()\n",
    "console_handler.setLevel(\"DEBUG\")\n",
    "console_handler.setFormatter(formatter)\n",
    "logger.addHandler(console_handler)\n",
    "\n",
    "file_handler = logging.FileHandler(\"app.log\", mode=\"a\", encoding=\"utf-8\")\n",
    "file_handler.setLevel(\"WARNING\")\n",
    "file_handler.setFormatter(formatter)\n",
    "logger.addHandler(file_handler)\n",
    "\n",
    "\n",
    "logger.debug(\"This is a debug message\")\n",
    "logger.warning(\"This is a warning message\")\n",
    "logger.error(\"This is an error message\")"
   ]
  },
  {
   "cell_type": "markdown",
   "metadata": {},
   "source": [
    "if you want only the messages for a specific level, you can add filters to a handler. But in most cases, that is not necessary"
   ]
  },
  {
   "cell_type": "markdown",
   "metadata": {},
   "source": [
    "## Logging to Azure\n",
    "\n",
    "For this, use the container app environment logging functionality and direct the logging to a low analytics workspace."
   ]
  },
  {
   "cell_type": "code",
   "execution_count": null,
   "metadata": {},
   "outputs": [],
   "source": []
  },
  {
   "cell_type": "markdown",
   "metadata": {},
   "source": [
    "## Logging Filtering"
   ]
  },
  {
   "cell_type": "markdown",
   "metadata": {},
   "source": [
    "Filter is like a gatekeeper: it decides, whether the log gets though or is dropped. Therefore a filter returns a bool - True for allowing the log and False for dropping it."
   ]
  },
  {
   "cell_type": "code",
   "execution_count": 8,
   "metadata": {},
   "outputs": [],
   "source": [
    "import logging\n",
    "\n",
    "\n",
    "# Step 1: Define a filter\n",
    "class ContextFilter(logging.Filter):\n",
    "    def filter(self, record):\n",
    "        # Add a custom attribute\n",
    "        record.request_id = \"id123\"\n",
    "        record.logger_name = record.name\n",
    "        return True  # always allow through\n",
    "\n",
    "\n",
    "# Step 2: Set up logger\n",
    "logger = logging.getLogger(\"demo\")\n",
    "logger.setLevel(logging.DEBUG)\n",
    "\n",
    "handler = logging.StreamHandler()\n",
    "formatter = logging.Formatter(\"%(levelname)s [%(request_id)s]: %(message)s\")\n",
    "handler.setFormatter(formatter)\n",
    "\n",
    "# Attach filter to the handler\n",
    "handler.addFilter(ContextFilter())\n",
    "logger.addHandler(handler)"
   ]
  },
  {
   "cell_type": "code",
   "execution_count": 7,
   "metadata": {},
   "outputs": [
    {
     "name": "stderr",
     "output_type": "stream",
     "text": [
      "ERROR [id123]: hi\n",
      "ERROR [id123]: hi\n"
     ]
    }
   ],
   "source": [
    "# Step 3: Log something\n",
    "logger.error(\"hi\")"
   ]
  },
  {
   "cell_type": "code",
   "execution_count": 10,
   "metadata": {},
   "outputs": [
    {
     "data": {
      "text/plain": [
       "<RootLogger root (WARNING)>"
      ]
     },
     "execution_count": 10,
     "metadata": {},
     "output_type": "execute_result"
    }
   ],
   "source": [
    "logging.getLogger()"
   ]
  },
  {
   "cell_type": "code",
   "execution_count": null,
   "metadata": {},
   "outputs": [],
   "source": []
  }
 ],
 "metadata": {
  "kernelspec": {
   "display_name": "mastering-python",
   "language": "python",
   "name": "python3"
  },
  "language_info": {
   "codemirror_mode": {
    "name": "ipython",
    "version": 3
   },
   "file_extension": ".py",
   "mimetype": "text/x-python",
   "name": "python",
   "nbconvert_exporter": "python",
   "pygments_lexer": "ipython3",
   "version": "3.11.13"
  }
 },
 "nbformat": 4,
 "nbformat_minor": 2
}
