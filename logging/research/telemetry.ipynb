{
 "cells": [
  {
   "cell_type": "code",
   "execution_count": 1,
   "id": "46de19b8",
   "metadata": {},
   "outputs": [
    {
     "name": "stdout",
     "output_type": "stream",
     "text": [
      "/workspaces/mastering-python/logging\n"
     ]
    }
   ],
   "source": [
    "import os\n",
    "\n",
    "os.chdir(\"..\")\n",
    "print(os.getcwd())"
   ]
  },
  {
   "cell_type": "code",
   "execution_count": 2,
   "id": "c2b4d16f",
   "metadata": {},
   "outputs": [
    {
     "name": "stdout",
     "output_type": "stream",
     "text": [
      "successfully loaded env file:  True\n"
     ]
    }
   ],
   "source": [
    "from dotenv import load_dotenv\n",
    "\n",
    "environment = \"dev\"\n",
    "print(\n",
    "    \"successfully loaded env file: \",\n",
    "    load_dotenv(f\"./env/.env.{environment}\", override=True),\n",
    ")"
   ]
  },
  {
   "cell_type": "markdown",
   "id": "e0287c12",
   "metadata": {},
   "source": [
    "**README**\n",
    "\n",
    "logging telemetry to azure: you need both a log analytics workspace (LAW) and an application insights (AI) resource. The LAW is the central log database for all Azure Monitor features. The AI resource ingests the logs and makes sure it captures all the opentelemetry information and serializes them.\n",
    "\n",
    "you can query those f.ex. like this:\n",
    "\n",
    "```KQL\n",
    "traces\n",
    "| where isnotempty(customDimensions[\"user_id\"])\n",
    "| project \n",
    "    timestamp,\n",
    "    severity = severityLevel,\n",
    "    msg = message,\n",
    "    user_id = customDimensions[\"user_id\"],\n",
    "    collection = customDimensions[\"collection\"],\n",
    "    changes = customDimensions[\"changes\"]\n",
    "```"
   ]
  },
  {
   "cell_type": "markdown",
   "id": "a04e5619",
   "metadata": {},
   "source": [
    "# Telemetry"
   ]
  },
  {
   "cell_type": "markdown",
   "id": "7f4991e8",
   "metadata": {},
   "source": [
    "## Basics"
   ]
  },
  {
   "cell_type": "markdown",
   "id": "af42c941",
   "metadata": {},
   "source": [
    "NOTE: sometimes it takes a while for the logs to show up in azure - try query with different time ranges. Setting `enable_live_metrics=True` can help though.\n",
    "\n",
    "following this: [docs](https://learn.microsoft.com/en-us/azure/azure-monitor/app/opentelemetry-enable?tabs=python#enable-azure-monitor-opentelemetry-for-net-nodejs-python-and-java-applications)"
   ]
  },
  {
   "cell_type": "code",
   "execution_count": 3,
   "id": "058a533d",
   "metadata": {},
   "outputs": [],
   "source": [
    "import logging\n",
    "\n",
    "from azure.monitor.opentelemetry import configure_azure_monitor\n",
    "\n",
    "logging.basicConfig(\n",
    "    format=\"{levelname} {name}: {message}\",\n",
    "    style=\"{\",\n",
    ")\n",
    "\n",
    "configure_azure_monitor(\n",
    "    logger_name=\"app\",\n",
    "    connection_string=os.environ[\"APPLICATIONINSIGHTS_CONNECTION_STRING\"],\n",
    "    enable_live_metrics=True,\n",
    "    disable_offline_storage=True,\n",
    ")\n",
    "logger = logging.getLogger(\"app\")\n",
    "logger.setLevel(logging.INFO)"
   ]
  },
  {
   "cell_type": "code",
   "execution_count": null,
   "id": "a1b7e060",
   "metadata": {},
   "outputs": [
    {
     "name": "stderr",
     "output_type": "stream",
     "text": [
      "ERROR app: this is critical\n",
      "INFO app: FileUploaded\n"
     ]
    }
   ],
   "source": [
    "logger.error(\n",
    "    \"CriticalUpload\",\n",
    "    extra={\n",
    "        \"user_id\": \"user_id_1234\",\n",
    "        \"file_count\": 3,\n",
    "        \"success\": False,\n",
    "        \"duration\": 2.3,\n",
    "    },\n",
    ")\n",
    "logger.info(\n",
    "    \"FileUploaded\",\n",
    "    extra={\n",
    "        \"user_id\": \"user_id_1234\",\n",
    "        \"file_count\": 2,\n",
    "        \"success\": True,\n",
    "        \"duration\": 2.2,\n",
    "    },\n",
    ")"
   ]
  },
  {
   "cell_type": "code",
   "execution_count": null,
   "id": "624a3116",
   "metadata": {},
   "outputs": [],
   "source": []
  }
 ],
 "metadata": {
  "kernelspec": {
   "display_name": "mastering-python",
   "language": "python",
   "name": "python3"
  },
  "language_info": {
   "codemirror_mode": {
    "name": "ipython",
    "version": 3
   },
   "file_extension": ".py",
   "mimetype": "text/x-python",
   "name": "python",
   "nbconvert_exporter": "python",
   "pygments_lexer": "ipython3",
   "version": "3.11.13"
  }
 },
 "nbformat": 4,
 "nbformat_minor": 5
}
