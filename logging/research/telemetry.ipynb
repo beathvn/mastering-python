{
 "cells": [
  {
   "cell_type": "code",
   "execution_count": 1,
   "id": "46de19b8",
   "metadata": {},
   "outputs": [
    {
     "name": "stdout",
     "output_type": "stream",
     "text": [
      "/workspaces/mastering-python/logging\n"
     ]
    }
   ],
   "source": [
    "import os\n",
    "\n",
    "os.chdir(\"..\")\n",
    "print(os.getcwd())"
   ]
  },
  {
   "cell_type": "code",
   "execution_count": 2,
   "id": "c2b4d16f",
   "metadata": {},
   "outputs": [
    {
     "name": "stdout",
     "output_type": "stream",
     "text": [
      "successfully loaded env file:  True\n"
     ]
    }
   ],
   "source": [
    "from dotenv import load_dotenv\n",
    "\n",
    "environment = \"dev\"\n",
    "print(\n",
    "    \"successfully loaded env file: \",\n",
    "    load_dotenv(f\"./env/.env.{environment}\", override=True),\n",
    ")"
   ]
  },
  {
   "cell_type": "markdown",
   "id": "e0287c12",
   "metadata": {},
   "source": [
    "**README**\n",
    "\n",
    "logging telemetry to azure: you need both a log analytics workspace (LAW) and an application insights (AI) resource. The LAW is the central log database for all Azure Monitor features. The AI resource ingests the logs and makes sure it captures all the opentelemetry information and serializes them.\n",
    "\n",
    "you can query those f.ex. like this:\n",
    "\n",
    "```KQL\n",
    "traces\n",
    "| where isnotempty(customDimensions[\"user_id\"])\n",
    "| project \n",
    "    timestamp,\n",
    "    severity = severityLevel,\n",
    "    msg = message,\n",
    "    user_id = customDimensions[\"user_id\"],\n",
    "    collection = customDimensions[\"collection\"],\n",
    "    changes = customDimensions[\"changes\"]\n",
    "```"
   ]
  },
  {
   "cell_type": "markdown",
   "id": "a04e5619",
   "metadata": {},
   "source": [
    "# Telemetry"
   ]
  },
  {
   "cell_type": "markdown",
   "id": "7f4991e8",
   "metadata": {},
   "source": [
    "## Basics"
   ]
  },
  {
   "cell_type": "markdown",
   "id": "af42c941",
   "metadata": {},
   "source": [
    "NOTE: sometimes it takes a while for the logs to show up in azure - try query with different time ranges. Setting `enable_live_metrics=True` can help though.\n",
    "\n",
    "following this: [docs](https://learn.microsoft.com/en-us/azure/azure-monitor/app/opentelemetry-enable?tabs=python#enable-azure-monitor-opentelemetry-for-net-nodejs-python-and-java-applications)"
   ]
  },
  {
   "cell_type": "code",
   "execution_count": 3,
   "id": "058a533d",
   "metadata": {},
   "outputs": [],
   "source": [
    "import logging\n",
    "\n",
    "from azure.monitor.opentelemetry import configure_azure_monitor\n",
    "\n",
    "logging.basicConfig(\n",
    "    format=\"{levelname} {name}: {message}\",\n",
    "    style=\"{\",\n",
    ")\n",
    "\n",
    "configure_azure_monitor(\n",
    "    logger_name=\"app\",\n",
    "    connection_string=os.environ[\"APPLICATIONINSIGHTS_CONNECTION_STRING\"],\n",
    "    enable_live_metrics=True,\n",
    "    disable_offline_storage=True,\n",
    ")\n",
    "logger = logging.getLogger(\"app\")\n",
    "logger.setLevel(logging.INFO)"
   ]
  },
  {
   "cell_type": "code",
   "execution_count": null,
   "id": "a1b7e060",
   "metadata": {},
   "outputs": [
    {
     "name": "stderr",
     "output_type": "stream",
     "text": [
      "ERROR app: this is critical\n",
      "INFO app: FileUploaded\n"
     ]
    }
   ],
   "source": [
    "logger.error(\n",
    "    \"CriticalUpload\",\n",
    "    extra={\n",
    "        \"user_id\": \"user_id_1234\",\n",
    "        \"file_count\": 3,\n",
    "        \"success\": False,\n",
    "        \"duration\": 2.3,\n",
    "    },\n",
    ")\n",
    "logger.info(\n",
    "    \"FileUploaded\",\n",
    "    extra={\n",
    "        \"user_id\": \"user_id_1234\",\n",
    "        \"file_count\": 2,\n",
    "        \"success\": True,\n",
    "        \"duration\": 2.2,\n",
    "    },\n",
    ")"
   ]
  },
  {
   "cell_type": "markdown",
   "id": "031a5162",
   "metadata": {},
   "source": [
    "the formatting, just defines, how the log message will be formatted - this has nothing to do how the other metadata is logged - the ingestion works on the log record itself:\n",
    "\n",
    "The Python logging formatter only controls how the log looks if you’re writing to console/file. It’s just turning fields into a string.\n",
    "\n",
    "The Azure exporter doesn’t read that formatted string. Instead, it inspects the raw LogRecord object:\n",
    "Standard fields like `record.levelname`, `record.name`, `record.message`, `record.created`, etc.\n",
    "Any extra attributes you’ve added (like with a filter). These become custom dimensions in Application Insights."
   ]
  },
  {
   "cell_type": "markdown",
   "id": "d90fbebf",
   "metadata": {},
   "source": [
    "## with filter"
   ]
  },
  {
   "cell_type": "code",
   "execution_count": null,
   "id": "624a3116",
   "metadata": {},
   "outputs": [],
   "source": [
    "# system imports\n",
    "import logging\n",
    "\n",
    "# 3rd party imports\n",
    "from azure.monitor.opentelemetry import configure_azure_monitor\n",
    "\n",
    "LOGGER_NAME = \"testFilter\"\n",
    "\n",
    "\n",
    "class ContextFilter(logging.Filter):\n",
    "    def filter(self, record):\n",
    "        # here we have also access to the parameters that are passed with the `extra` keyword\n",
    "        # Add a custom attribute\n",
    "        record.request_id = \"id123\"\n",
    "        record.logger_name = record.name\n",
    "        return True\n",
    "\n",
    "\n",
    "logger = logging.getLogger(LOGGER_NAME)\n",
    "logger.setLevel(logging.DEBUG)\n",
    "\n",
    "handler = logging.StreamHandler()\n",
    "formatter = logging.Formatter(\"{levelname} {name}: {message}\", style=\"{\")\n",
    "handler.setFormatter(formatter)\n",
    "\n",
    "# Attach filter to the handler\n",
    "handler.addFilter(ContextFilter())\n",
    "logger.addHandler(handler)\n",
    "\n",
    "configure_azure_monitor(\n",
    "    logger_name=LOGGER_NAME,\n",
    "    connection_string=os.environ[\"APPLICATIONINSIGHTS_CONNECTION_STRING\"],\n",
    "    enable_live_metrics=True,\n",
    "    disable_offline_storage=True,\n",
    "    # logging_formatter=logging.Formatter(\"[%(levelname)s] %(name)s: %(message)s\"),\n",
    ")"
   ]
  },
  {
   "cell_type": "code",
   "execution_count": 4,
   "id": "ac3b1a56",
   "metadata": {},
   "outputs": [
    {
     "name": "stderr",
     "output_type": "stream",
     "text": [
      "INFO testFilter: third test\n"
     ]
    }
   ],
   "source": [
    "logger.info(\"third test\", extra={\"user\": \"user123\"})"
   ]
  }
 ],
 "metadata": {
  "kernelspec": {
   "display_name": "mastering-python",
   "language": "python",
   "name": "python3"
  },
  "language_info": {
   "codemirror_mode": {
    "name": "ipython",
    "version": 3
   },
   "file_extension": ".py",
   "mimetype": "text/x-python",
   "name": "python",
   "nbconvert_exporter": "python",
   "pygments_lexer": "ipython3",
   "version": "3.11.13"
  }
 },
 "nbformat": 4,
 "nbformat_minor": 5
}
